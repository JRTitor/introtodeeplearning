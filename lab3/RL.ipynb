{
  "cells": [
    {
      "cell_type": "markdown",
      "metadata": {
        "id": "view-in-github",
        "colab_type": "text"
      },
      "source": [
        "<a href=\"https://colab.research.google.com/github/JRTitor/introtodeeplearning/blob/master/lab3/RL.ipynb\" target=\"_parent\"><img src=\"https://colab.research.google.com/assets/colab-badge.svg\" alt=\"Open In Colab\"/></a>"
      ]
    },
    {
      "cell_type": "markdown",
      "metadata": {
        "id": "jrI6q7RmWQam"
      },
      "source": [
        "<table align=\"center\">\n",
        "  <td align=\"center\"><a target=\"_blank\" href=\"http://introtodeeplearning.com\">\n",
        "        <img src=\"https://i.ibb.co/Jr88sn2/mit.png\" style=\"padding-bottom:5px;\" />\n",
        "      Visit MIT Deep Learning</a></td>\n",
        "  <td align=\"center\"><a target=\"_blank\" href=\"https://colab.research.google.com/github/aamini/introtodeeplearning/blob/master/lab3/RL.ipynb\">\n",
        "        <img src=\"https://i.ibb.co/2P3SLwK/colab.png\"  style=\"padding-bottom:5px;\" />Run in Google Colab</a></td>\n",
        "  <td align=\"center\"><a target=\"_blank\" href=\"https://github.com/aamini/introtodeeplearning/blob/master/lab3/RL.ipynb\">\n",
        "        <img src=\"https://i.ibb.co/xfJbPmL/github.png\"  height=\"70px\" style=\"padding-bottom:5px;\"  />View Source on GitHub</a></td>\n",
        "</table>\n",
        "\n",
        "# Copyright Information"
      ]
    },
    {
      "cell_type": "code",
      "execution_count": null,
      "metadata": {
        "id": "wkd375upWYok"
      },
      "outputs": [],
      "source": [
        "# Copyright 2022 MIT 6.S191 Introduction to Deep Learning. All Rights Reserved.\n",
        "# \n",
        "# Licensed under the MIT License. You may not use this file except in compliance\n",
        "# with the License. Use and/or modification of this code outside of 6.S191 must\n",
        "# reference:\n",
        "#\n",
        "# © MIT 6.S191: Introduction to Deep Learning\n",
        "# http://introtodeeplearning.com\n",
        "#"
      ]
    },
    {
      "cell_type": "markdown",
      "metadata": {
        "id": "WoXYKhfZMHiw"
      },
      "source": [
        "# Laboratory 3: Reinforcement Learning\n",
        "\n",
        "Reinforcement learning (RL) is a subset of machine learning which poses learning problems as interactions between agents and environments. It often assumes agents have no prior knowledge of a world, so they must learn to navigate environments by optimizing a reward function. Within an environment, an agent can take certain actions and receive feedback, in the form of positive or negative rewards, with respect to their decision. As such, an agent's feedback loop is somewhat akin to the idea of \"trial and error\", or the manner in which a child might learn to distinguish between \"good\" and \"bad\" actions.\n",
        "\n",
        "In practical terms, our RL agent will interact with the environment by taking an action at each timestep, receiving a corresponding reward, and updating its state according to what it has \"learned\".  \n",
        "\n",
        "![alt text](https://www.kdnuggets.com/images/reinforcement-learning-fig1-700.jpg)\n",
        "\n",
        "While the ultimate goal of reinforcement learning is to teach agents to act in the real, physical world, simulated environments -- like games and simulation engines -- provide a convenient proving ground for developing RL algorithms and agents.\n",
        "\n",
        "In previous labs, we have explored both supervised (with LSTMs, CNNs) and unsupervised / semi-supervised (with VAEs) learning tasks. Reinforcement learning is fundamentally different, in that we are training a deep learning algorithm to govern the actions of our RL agent, that is trying, within its environment, to find the optimal way to achieve a goal. The goal of training an RL agent is to determine the best next step to take to earn the greatest final payoff or return. In this lab, we focus on building a reinforcement learning algorithm to master two different environments with varying complexity. \n",
        "\n",
        "1.   **Cartpole**:   Balance a pole, protruding from a cart, in an upright position by only moving the base left or right. Environment with a low-dimensional observation space.\n",
        "2.   [**Driving in VISTA**](https://www.mit.edu/~amini/pubs/pdf/learning-in-simulation-vista.pdf): Learn a driving control policy for an autonomous vehicle, end-to-end from raw pixel inputs and entirely in the data-driven simulation environment of VISTA. Environment with a high-dimensional observation space -- learning directly from raw pixels.\n",
        "\n",
        "Let's get started! First we'll import TensorFlow, the course package, and some dependencies.\n"
      ]
    },
    {
      "cell_type": "code",
      "execution_count": 1,
      "metadata": {
        "id": "KR9QHuleJ9Bh",
        "outputId": "a554bd5e-6479-4f28-9391-16d25fa9b9da",
        "colab": {
          "base_uri": "https://localhost:8080/"
        }
      },
      "outputs": [
        {
          "output_type": "stream",
          "name": "stdout",
          "text": [
            "Colab only includes TensorFlow 2.x; %tensorflow_version has no effect.\n",
            "Installing MIT deep learning package... Done\n"
          ]
        }
      ],
      "source": [
        "# Import Tensorflow 2.0\n",
        "%tensorflow_version 2.x\n",
        "import tensorflow as tf\n",
        "\n",
        "gpus = tf.config.experimental.list_physical_devices('GPU')\n",
        "if gpus:\n",
        "    for gpu in gpus:\n",
        "        tf.config.experimental.set_memory_growth(gpu, True)\n",
        "\n",
        "# Download and import the MIT 6.S191 package\n",
        "!printf \"Installing MIT deep learning package... \"\n",
        "!pip install --upgrade git+https://github.com/aamini/introtodeeplearning.git &> /dev/null\n",
        "!echo \"Done\""
      ]
    },
    {
      "cell_type": "code",
      "execution_count": 2,
      "metadata": {
        "id": "EvdePP-VyVWp"
      },
      "outputs": [],
      "source": [
        "#Install some dependencies for visualizing the agents\n",
        "!apt-get install -y xvfb python-opengl x11-utils &> /dev/null\n",
        "!pip install gym pyvirtualdisplay scikit-video ffio pyrender &> /dev/null\n",
        "!pip install tensorflow_probability==0.12.0 &> /dev/null\n",
        "import os\n",
        "os.environ['PYOPENGL_PLATFORM'] = 'egl'\n",
        "\n",
        "import numpy as np\n",
        "import matplotlib, cv2\n",
        "import matplotlib.pyplot as plt\n",
        "import base64, io, os, time, gym\n",
        "import IPython, functools\n",
        "import time\n",
        "from tqdm import tqdm\n",
        "import tensorflow_probability as tfp\n",
        "\n",
        "import mitdeeplearning as mdl"
      ]
    },
    {
      "cell_type": "markdown",
      "metadata": {
        "id": "zmrHSiXKTXTY"
      },
      "source": [
        "Before we dive in, let's take a step back and outline our approach, which is generally applicable to reinforcement learning problems in general:\n",
        "\n",
        "1. **Initialize our environment and our agent**: here we will describe the different observations and actions the agent can make in the environemnt.\n",
        "2. **Define our agent's memory**: this will enable the agent to remember its past actions, observations, and rewards.\n",
        "3. **Define a reward function**: describes the reward associated with an action or sequence of actions.\n",
        "4. **Define the learning algorithm**: this will be used to reinforce the agent's good behaviors and discourage bad behaviors.\n"
      ]
    },
    {
      "cell_type": "markdown",
      "metadata": {
        "id": "UT7YL8KBJIIc"
      },
      "source": [
        "# Part 1: Cartpole\n",
        "\n",
        "## 3.1 Define the Cartpole environment and agent\n",
        "\n",
        "### Environment \n",
        "\n",
        "In order to model the environment for the Cartpole task, we'll be using a toolkit developed by OpenAI called [OpenAI Gym](https://gym.openai.com/). It provides several pre-defined environments for training and testing reinforcement learning agents, including those for classic physics control tasks, Atari video games, and robotic simulations. To access the Cartpole environment, we can use `env = gym.make(\"CartPole-v0\")`, which we gained access to when we imported the `gym` package. We can instantiate different [environments](https://gym.openai.com/envs/#classic_control) by passing the enivronment name to the `make` function.\n",
        "\n",
        "One issue we might experience when developing RL algorithms is that many aspects of the learning process are inherently random: initializing game states, changes in the environment, and the agent's actions. As such, it can be helpful to set a initial \"seed\" for the environment to ensure some level of reproducibility. Much like you might use `numpy.random.seed`, we can call the comparable function in gym, `seed`, with our defined environment to ensure the environment's random variables are initialized the same each time."
      ]
    },
    {
      "cell_type": "code",
      "execution_count": 3,
      "metadata": {
        "id": "quv9SC0iIYFm",
        "outputId": "29afc9ef-944e-44a9-ff80-cb852e75f252",
        "colab": {
          "base_uri": "https://localhost:8080/"
        }
      },
      "outputs": [
        {
          "output_type": "execute_result",
          "data": {
            "text/plain": [
              "[1]"
            ]
          },
          "metadata": {},
          "execution_count": 3
        }
      ],
      "source": [
        "### Instantiate the Cartpole environment ###\n",
        "\n",
        "env = gym.make(\"CartPole-v1\")\n",
        "env.seed(1)"
      ]
    },
    {
      "cell_type": "markdown",
      "metadata": {
        "id": "mhEITUcKK455"
      },
      "source": [
        "In Cartpole, a pole is attached by an un-actuated joint to a cart, which moves along a frictionless track. The pole starts upright, and the goal is to prevent it from falling over. The system is controlled by applying a force of +1 or -1 to the cart. A reward of +1 is provided for every timestep that the pole remains upright. The episode ends when the pole is more than 15 degrees from vertical, or the cart moves more than 2.4 units from the center of the track. A visual summary of the cartpole environment is depicted below:\n",
        "\n",
        "<img width=\"400px\" src=\"https://danielpiedrahita.files.wordpress.com/2017/02/cart-pole.png\"></img>\n",
        "\n",
        "Given this setup for the environment and the objective of the game, we can think about: 1) what observations help define the environment's state; 2) what actions the agent can take. \n",
        "\n",
        "First, let's consider the observation space. In this Cartpole environment our observations are:\n",
        "\n",
        "1. Cart position\n",
        "2. Cart velocity\n",
        "3. Pole angle\n",
        "4. Pole rotation rate\n",
        "\n",
        "We can confirm the size of the space by querying the environment's observation space:\n"
      ]
    },
    {
      "cell_type": "code",
      "execution_count": 4,
      "metadata": {
        "id": "UVJaEcbdIX82",
        "outputId": "5bf8d4bb-78ef-419c-83c1-39f6ef3feb24",
        "colab": {
          "base_uri": "https://localhost:8080/"
        }
      },
      "outputs": [
        {
          "output_type": "stream",
          "name": "stdout",
          "text": [
            "Environment has observation space = Box(-3.4028234663852886e+38, 3.4028234663852886e+38, (4,), float32)\n"
          ]
        }
      ],
      "source": [
        "n_observations = env.observation_space\n",
        "print(\"Environment has observation space =\", n_observations)"
      ]
    },
    {
      "cell_type": "markdown",
      "metadata": {
        "id": "ZibGgjrALgPM"
      },
      "source": [
        "Second, we consider the action space. At every time step, the agent can move either right or left. Again we can confirm the size of the action space by querying the environment:"
      ]
    },
    {
      "cell_type": "code",
      "execution_count": 5,
      "metadata": {
        "id": "qc9SIPxBIXrm",
        "outputId": "c0ac3349-c203-41df-fdc2-5172d91bb3a8",
        "colab": {
          "base_uri": "https://localhost:8080/"
        }
      },
      "outputs": [
        {
          "output_type": "stream",
          "name": "stdout",
          "text": [
            "Number of possible actions that the agent can choose from = 2\n"
          ]
        }
      ],
      "source": [
        "n_actions = env.action_space.n\n",
        "print(\"Number of possible actions that the agent can choose from =\", n_actions)"
      ]
    },
    {
      "cell_type": "markdown",
      "metadata": {
        "id": "pPfHME8aRKkb"
      },
      "source": [
        "### Cartpole agent\n",
        "\n",
        "Now that we have instantiated the environment and understood the dimensionality of the observation and action spaces, we are ready to define our agent. In deep reinforcement learning, a deep neural network defines the agent. This network will take as input an observation of the environment and output the probability of taking each of the possible actions. Since Cartpole is defined by a low-dimensional observation space, a simple feed-forward neural network should work well for our agent. We will define this using the `Sequential` API.\n"
      ]
    },
    {
      "cell_type": "code",
      "execution_count": 6,
      "metadata": {
        "id": "W-o_XK4oQ4eu"
      },
      "outputs": [],
      "source": [
        "### Define the Cartpole agent ###\n",
        "\n",
        "# Defines a feed-forward neural network\n",
        "def create_cartpole_model():\n",
        "    model = tf.keras.models.Sequential([\n",
        "        # First Dense layer\n",
        "        tf.keras.layers.Dense(units=32, activation='relu'),\n",
        "        \n",
        "        # TODO: Define the last Dense layer, which will provide the network's output.\n",
        "        # Think about the space the agent needs to act in!\n",
        "        # ['''TODO''' Dense layer to output action probabilities]\n",
        "        tf.keras.layers.Dense(units=n_actions)\n",
        "    ])\n",
        "    return model\n",
        "\n",
        "cartpole_model = create_cartpole_model()"
      ]
    },
    {
      "cell_type": "markdown",
      "metadata": {
        "id": "d5D5NSIYS2IW"
      },
      "source": [
        "Now that we have defined the core network architecture, we will define an *action function* that executes a forward pass through the network, given a set of observations, and samples from the output. This sampling from the output probabilities will be used to select the next action for the agent. We will also add support so that the `choose_action` function can handle either a single observation or a batch of observations.\n",
        "\n",
        "**Critically, this action function is totally general -- we will use this function for learning control algorithms for Cartpole, but it is applicable to other RL tasks, as well!**"
      ]
    },
    {
      "cell_type": "code",
      "execution_count": 17,
      "metadata": {
        "id": "E_vVZRr8Q4R_"
      },
      "outputs": [],
      "source": [
        "### Define the agent's action function ###\n",
        "\n",
        "# Function that takes observations as input, executes a forward pass through model, \n",
        "#   and outputs a sampled action.\n",
        "# Arguments:\n",
        "#   model: the network that defines our agent\n",
        "#   observation: observation(s) which is/are fed as input to the model\n",
        "#   single: flag as to whether we are handling a single observation or batch of\n",
        "#     observations, provided as an np.array\n",
        "# Returns:\n",
        "#   action: choice of agent action\n",
        "def choose_action(model, observation, single=True):\n",
        "    # add batch dimension to the observation if only a single example was provided\n",
        "    observation = np.expand_dims(observation, axis=0) if single else observation\n",
        "\n",
        "    \n",
        "    logits = model.predict(observation)\n",
        "    action = tf.random.categorical(logits, num_samples=1)\n",
        "\n",
        "    action = action.numpy().flatten()\n",
        "\n",
        "    return action[0] if single else action"
      ]
    },
    {
      "cell_type": "markdown",
      "metadata": {
        "id": "_tR9uAWcTnkr"
      },
      "source": [
        "## 3.2 Define the agent's memory\n",
        "\n",
        "Now that we have instantiated the environment and defined the agent network architecture and action function, we are ready to move on to the next step in our RL workflow:\n",
        "1. **Initialize our environment and our agent**: here we will describe the different observations and actions the agent can make in the environemnt.\n",
        "2. **Define our agent's memory**: this will enable the agent to remember its past actions, observations, and rewards.\n",
        "3. **Define the learning algorithm**: this will be used to reinforce the agent's good behaviors and discourage bad behaviors.\n",
        "\n",
        "In reinforcement learning, training occurs alongside the agent's acting in the environment; an *episode* refers to a sequence of actions that ends in some terminal state, such as the pole falling down or the cart crashing. The agent will need to remember all of its observations and actions, such that once an episode ends, it can learn to \"reinforce\" the good actions and punish the undesirable actions via training. Our first step is to define a simple `Memory` buffer that contains the agent's observations, actions, and received rewards from a given episode. We will also add support to combine a list of `Memory` objects into a single `Memory`. This will be very useful for batching, which will help you accelerate training later on in the lab.\n",
        "\n",
        "**Once again, note the modularity of this memory buffer -- it can and will be applied to other RL tasks as well!**"
      ]
    },
    {
      "cell_type": "code",
      "execution_count": 7,
      "metadata": {
        "id": "8MM6JwXVQ4JG"
      },
      "outputs": [],
      "source": [
        "### Agent Memory ###\n",
        "\n",
        "class Memory:\n",
        "    def __init__(self): \n",
        "        self.clear()\n",
        "\n",
        "  # Resets/restarts the memory buffer\n",
        "    def clear(self): \n",
        "        self.observations = []\n",
        "        self.actions = []\n",
        "        self.rewards = []\n",
        "\n",
        "  # Add observations, actions, rewards to memory\n",
        "    def add_to_memory(self, new_observation, new_action, new_reward): \n",
        "        self.observations.append(new_observation)\n",
        "        \n",
        "        self.actions.append(new_action)\n",
        "\n",
        "        self.rewards.append(new_reward)\n",
        "\n",
        "    def __len__(self):\n",
        "        return len(self.actions)\n",
        "\n",
        "# Instantiate a single Memory buffer\n",
        "memory = Memory()"
      ]
    },
    {
      "cell_type": "markdown",
      "metadata": {
        "id": "D4YhtPaUVj5m"
      },
      "source": [
        "## 3.3 Reward function\n",
        "\n",
        "We're almost ready to begin the learning algorithm for our agent! The next step is to compute the rewards of our agent as it acts in the environment. Since we (and the agent) is uncertain about if and when the game or task will end (i.e., when the pole will fall), it is useful to emphasize getting rewards **now** rather than later in the future -- this is the idea of discounting. This is a similar concept to discounting money in the case of interest. Recall from lecture, we use reward discount to give more preference at getting rewards now rather than later in the future. The idea of discounting rewards is similar to discounting money in the case of interest.\n",
        "\n",
        "To compute the expected cumulative reward, known as the **return**, at a given timestep in a learning episode, we sum the discounted rewards expected at that time step $t$, within a learning episode, and projecting into the future. We define the return (cumulative reward) at a time step $t$, $R_{t}$ as:\n",
        "\n",
        ">$R_{t}=\\sum_{k=0}^\\infty\\gamma^kr_{t+k}$\n",
        "\n",
        "where  $0 < \\gamma < 1$ is the discount factor and $r_{t}$ is the reward at time step $t$, and the index $k$ increments projection into the future within a single learning episode. Intuitively, you can think of this function as depreciating any rewards received at later time steps, which will force the agent prioritize getting rewards now. Since we can't extend episodes to infinity, in practice the computation will be limited to the number of timesteps in an episode -- after that the reward is assumed to be zero.\n",
        "\n",
        "Take note of the form of this sum -- we'll have to be clever about how we implement this function. Specifically, we'll need to initialize an array of zeros, with length of the number of time steps, and fill it with the real discounted reward values as we loop through the rewards from the episode, which will have been saved in the agents memory. What we ultimately care about is which actions are better relative to other actions taken in that episode -- so, we'll normalize our computed rewards, using the mean and standard deviation of the rewards across the learning episode.\n",
        "\n",
        "We will use this definition of the reward function in both parts of the lab so make sure you have it executed!\n"
      ]
    },
    {
      "cell_type": "code",
      "execution_count": 8,
      "metadata": {
        "id": "5_Q2OFYtQ32X"
      },
      "outputs": [],
      "source": [
        "### Reward function ###\n",
        "\n",
        "# Helper function that normalizes an np.array x\n",
        "def normalize(x):\n",
        "    x -= np.mean(x)\n",
        "    x /= np.std(x)\n",
        "    return x.astype(np.float32)\n",
        "\n",
        "# Compute normalized, discounted, cumulative rewards (i.e., return)\n",
        "# Arguments:\n",
        "#   rewards: reward at timesteps in episode\n",
        "#   gamma: discounting factor\n",
        "# Returns:\n",
        "#   normalized discounted reward\n",
        "def discount_rewards(rewards, gamma=0.95): \n",
        "    discounted_rewards = np.zeros_like(rewards)\n",
        "    R = 0\n",
        "    for t in reversed(range(0, len(rewards))):\n",
        "        # update the total discounted reward\n",
        "        R = R * gamma + rewards[t]\n",
        "        discounted_rewards[t] = R\n",
        "      \n",
        "    return normalize(discounted_rewards)"
      ]
    },
    {
      "cell_type": "markdown",
      "metadata": {
        "id": "QzbY-mjGYcmt"
      },
      "source": [
        "## 3.4 Learning algorithm\n",
        "\n",
        "Now we can start to define the learing algorithm which will be used to reinforce good behaviors of the agent and discourage bad behaviours. In this lab, we will focus on *policy gradient* methods which aim to **maximize** the likelihood of actions that result in large rewards. Equivalently, this means that we want to **minimize** the negative likelihood of these same actions. We achieve this by simply **scaling** the probabilities by their associated rewards -- effectively amplifying the likelihood of actions that resujlt in large rewards.\n",
        "\n",
        "Since the log function is monotonically increasing, this means that minimizing **negative likelihood** is equivalent to minimizing **negative log-likelihood**.  Recall that we can easily compute the negative log-likelihood of a discrete action by evaluting its [softmax cross entropy](https://www.tensorflow.org/api_docs/python/tf/nn/sparse_softmax_cross_entropy_with_logits). Like in supervised learning, we can use stochastic gradient descent methods to achieve the desired minimization. \n",
        "\n",
        "Let's begin by defining the loss function."
      ]
    },
    {
      "cell_type": "code",
      "execution_count": 9,
      "metadata": {
        "id": "fsgZ3IDCY_Zn"
      },
      "outputs": [],
      "source": [
        "### Loss function ###\n",
        "\n",
        "# Arguments:\n",
        "#   logits: network's predictions for actions to take\n",
        "#   actions: the actions the agent took in an episode\n",
        "#   rewards: the rewards the agent received in an episode\n",
        "# Returns:\n",
        "#   loss\n",
        "def compute_loss(logits, actions, rewards): \n",
        "\n",
        "    neg_logprob = tf.nn.sparse_softmax_cross_entropy_with_logits(\n",
        "        logits=logits, labels=actions)\n",
        "  \n",
        "    loss = tf.reduce_mean(neg_logprob * rewards)\n",
        "    return loss"
      ]
    },
    {
      "cell_type": "markdown",
      "metadata": {
        "id": "Rr5vQ9fqbPpp"
      },
      "source": [
        "Now let's use the loss function to define a training step of our learning algorithm. This is a very generalizable definition which we will use "
      ]
    },
    {
      "cell_type": "code",
      "execution_count": 14,
      "metadata": {
        "id": "_50ada7nbZ7L"
      },
      "outputs": [],
      "source": [
        "### Training step (forward and backpropagation) ###\n",
        "\n",
        "def train_step(model, loss_function, optimizer, observations, actions, discounted_rewards, custom_fwd_fn=None):\n",
        "    with tf.GradientTape() as tape:\n",
        "        # Forward propagate through the agent network\n",
        "        if custom_fwd_fn is not None:\n",
        "            prediction = custom_fwd_fn(observations)\n",
        "        else: \n",
        "            prediction = model(observations)\n",
        "\n",
        "        loss = loss_function(prediction, actions, discounted_rewards)\n",
        "\n",
        "    grads = tape.gradient(loss, model.trainable_variables)\n",
        "\n",
        "    grads, _ = tf.clip_by_global_norm(grads, 5.5 / 2)\n",
        "    optimizer.apply_gradients(zip(grads, model.trainable_variables))"
      ]
    },
    {
      "cell_type": "markdown",
      "metadata": {
        "id": "XsjKXh6BcgjR"
      },
      "source": [
        "## 3.5 Run cartpole!\n",
        "\n",
        "Having had no prior knowledge of the environment, the agent will begin to learn how to balance the pole on the cart based only on the feedback received from the environment! Having defined how our agent can move, how it takes in new observations, and how it updates its state, we'll see how it gradually learns a policy of actions to optimize balancing the pole as long as possible. To do this, we'll track how the rewards evolve as a function of training -- how should the rewards change as training progresses?"
      ]
    },
    {
      "cell_type": "code",
      "execution_count": 24,
      "metadata": {
        "id": "-hZ7E6JOJ9Bn"
      },
      "outputs": [],
      "source": [
        "## Training parameters ##\n",
        "## Re-run this cell to restart training from scratch ##\n",
        "\n",
        "# TODO: Learning rate and optimizer\n",
        "learning_rate = 0.001\n",
        "\n",
        "optimizer = tf.keras.optimizers.Adamax(learning_rate)\n",
        "\n",
        "# instantiate cartpole agent\n",
        "cartpole_model = create_cartpole_model()\n",
        "\n",
        "# to track our progress\n",
        "smoothed_reward = mdl.util.LossHistory(smoothing_factor=0.95)\n",
        "plotter = mdl.util.PeriodicPlotter(sec=2, xlabel='Iterations', ylabel='Rewards')"
      ]
    },
    {
      "cell_type": "code",
      "execution_count": 25,
      "metadata": {
        "id": "XmOzc2rrcn8Q",
        "scrolled": false,
        "outputId": "2ea604b8-addc-48b1-d04b-6bb54ba4b970",
        "colab": {
          "base_uri": "https://localhost:8080/",
          "height": 541
        }
      },
      "outputs": [
        {
          "output_type": "display_data",
          "data": {
            "text/plain": [
              "<Figure size 432x288 with 1 Axes>"
            ],
            "image/png": "[encoded data removed]"
          },
          "metadata": {}
        },
        {
          "output_type": "display_data",
          "data": {
            "text/plain": [
              "<Figure size 432x288 with 1 Axes>"
            ],
            "image/png": "[encoded data removed]"
          },
          "metadata": {
            "needs_background": "light"
          }
        }
      ],
      "source": [
        "## Cartpole training! ##\n",
        "## Note: stoping and restarting this cell will pick up training where you\n",
        "#        left off. To restart training you need to rerun the cell above as \n",
        "#        well (to re-initialize the model and optimizer)\n",
        "\n",
        "if hasattr(tqdm, '_instances'): tqdm._instances.clear() # clear if it exists\n",
        "for i_episode in range(500):\n",
        "\n",
        "    plotter.plot(smoothed_reward.get())\n",
        "    # Restart the environment\n",
        "    observation = env.reset()\n",
        "    memory.clear()\n",
        "\n",
        "    while True:\n",
        "        # using our observation, choose an action and take it in the environment\n",
        "        action = choose_action(cartpole_model, observation)\n",
        "        next_observation, reward, done, info = env.step(action)\n",
        "        # add to memory\n",
        "        memory.add_to_memory(observation, action, reward)\n",
        "\n",
        "        # is the episode over? did you crash or do so well that you're done?\n",
        "        if done:\n",
        "            # determine total reward and keep a record of this\n",
        "            total_reward = sum(memory.rewards)\n",
        "            smoothed_reward.append(total_reward)\n",
        "          \n",
        "            # initiate training - remember we don't know anything about how the \n",
        "            #   agent is doing until it has crashed!\n",
        "            g = train_step(cartpole_model, compute_loss, optimizer, \n",
        "                       observations=np.vstack(memory.observations),\n",
        "                       actions=np.array(memory.actions),\n",
        "                       discounted_rewards = discount_rewards(memory.rewards))\n",
        "          \n",
        "            # reset the memory\n",
        "            memory.clear()\n",
        "            break\n",
        "        # update our observatons\n",
        "        observation = next_observation"
      ]
    },
    {
      "cell_type": "markdown",
      "metadata": {
        "id": "mkcUtGF1VE-K"
      },
      "source": [
        "To get a sense of how our agent did, we can save a video of the trained model working on balancing the pole. Realize that this is a brand new environment that the agent has not seen before!\n",
        "\n",
        "Let's display the saved video to watch how our agent did!\n"
      ]
    },
    {
      "cell_type": "code",
      "execution_count": 26,
      "metadata": {
        "id": "PAYBkv6Zbk0J",
        "scrolled": true,
        "outputId": "53d2bab4-ce17-419a-e7b5-ef8cd3b9113d",
        "colab": {
          "base_uri": "https://localhost:8080/",
          "height": 441
        }
      },
      "outputs": [
        {
          "output_type": "stream",
          "name": "stdout",
          "text": [
            "Successfully saved 500 frames into CartPole-v1.mp4!\n"
          ]
        },
        {
          "output_type": "execute_result",
          "data": {
            "text/plain": [
              "<IPython.core.display.HTML object>"
            ],
            "text/html": [
              "\n",
              "        <video controls >\n",
              "            <source src=\"data:video/mp4;base64,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\" type=\"video/mp4\" />\n",
              "        </video>"
            ]
          },
          "metadata": {},
          "execution_count": 26
        }
      ],
      "source": [
        "matplotlib.use('Agg') \n",
        "saved_cartpole = mdl.lab3.save_video_of_model(cartpole_model, \"CartPole-v1\")\n",
        "mdl.lab3.play_video(saved_cartpole)"
      ]
    },
    {
      "cell_type": "markdown",
      "metadata": {
        "id": "CSbVNDpaVb3_"
      },
      "source": [
        "How does the agent perform? Could you train it for shorter amounts of time and still perform well? Do you think that training longer would help even more? "
      ]
    },
    {
      "cell_type": "markdown",
      "metadata": {
        "id": "Eu6Mqxc720ST"
      },
      "source": [
        "# Part 2: Training Autonomous Driving Policies in VISTA\n",
        "Autonomous control has traditionally be dominated by algorithms that explicitly decompose individual aspects of the control pipeline. For example, in autonomous driving, traditional methods work by first detecting road and lane boundaries, and then using path planning and rule-based methods to derive a control policy. Deep learning offers something very different -- the possibility of optimizing all these steps simultaneously, learning control end-to-end directly from raw sensory inputs.\n",
        "\n",
        "**You will explore the power of deep learning to learn autonomous control policies that are trained *end-to-end, directly from raw sensory data, and entirely within a simulated world*.**\n",
        "\n",
        "We will use the data-driven simulation engine [VISTA](https://ieeexplore.ieee.org/stamp/stamp.jsp?arnumber=8957584&tag=1), which uses techniques in computer vision to synthesize new photorealistic trajectories and driving viewpoints, that are still consistent with the world's appearance and fall within the envelope of a real driving scene. This is a powerful approach -- we can synthesize data that is photorealistic, grounded in the real world, and then use this data for training and testing autonomous vehicle control policies within this simulator.\n",
        "\n",
        "In this part of the lab, you will use reinforcement lerning to build a self-driving agent with a neural network-based controller trained on RGB camera data. We will train the self-driving agent for the task of lane following. Beyond this data modality and control task, VISTA also supports [different data modalities](https://arxiv.org/pdf/2111.12083.pdf) (such as LiDAR data) and [different learning tasks](https://arxiv.org/pdf/2111.12137.pdf) (such as multi-car interactions).\n",
        "<p align=\"center\">\n",
        "<img src=\"https://raw.githubusercontent.com/aamini/introtodeeplearning/master/lab3/img/vista_overview.png\" width=\"600\"/>\n",
        "</p>\n",
        "\n",
        "\n",
        "You will put your agent to the test in the VISTA environment, and potentially, on board a full-scale autonomous vehicle! Specifically, as part of the MIT lab competitions, high-performing agents -- evaluated based on the maximum distance they can travel without crashing -- will have the opportunity to be put to the ***real*** test onboard a full-scale autonomous vehicle!!! \n",
        "\n",
        "We start by installing dependencies. This includes installing the VISTA package itself."
      ]
    },
    {
      "cell_type": "code",
      "source": [
        "!pip install --upgrade git+https://github.com/vista-simulator/vista-6s191.git"
      ],
      "metadata": {
        "id": "WKWcagMpRLIB"
      },
      "execution_count": null,
      "outputs": []
    },
    {
      "cell_type": "code",
      "source": [
        "import vista\n",
        "from vista.utils import logging\n",
        "logging.setLevel(logging.ERROR)"
      ],
      "metadata": {
        "id": "ByV6c5GKTgHq"
      },
      "execution_count": null,
      "outputs": []
    },
    {
      "cell_type": "markdown",
      "metadata": {
        "id": "70Vpby5VJ9Bp"
      },
      "source": [
        "VISTA provides some documentation which will be very helpful to completing this lab. You can always use the `?vista` command to access the package documentation."
      ]
    },
    {
      "cell_type": "code",
      "source": [
        "### Access documentation for VISTA\n",
        "### Run ?vista.<[name of module or function]>\n",
        "?vista.Display "
      ],
      "metadata": {
        "id": "-RTw0OK4nTYi"
      },
      "execution_count": null,
      "outputs": []
    },
    {
      "cell_type": "markdown",
      "source": [
        "## 3.6 Create an environment in VISTA\n",
        "\n",
        "Environments in VISTA are based on and built from human-collected driving *traces*. A trace is the data from a single driving run. In this case we'll be working with RGB camera data, from the viewpoint of the driver looking out at the road: the camera collects this data as the car drives around!\n",
        "\n",
        "We will start by accessing a trace. We use that trace to instantiate an environment within VISTA. This is our `World` and defines the environment we will use for reinforcement learning. The trace itself helps to define a space for the environment; with VISTA, we can use the trace to generate new photorealistic viewpoints anywhere within that space. This provides valuable new training data as well as a robust testing environment.\n",
        "\n",
        "The simulated environment of VISTA will serve as our training ground and testbed for reinforcement learning. We also define an `Agent` -- a car -- that will actually move around in the environmnet, and make and carry out *actions* in this world. Because this is an entirely simulated environment, our car agent will also be simulated!\n",
        "\n"
      ],
      "metadata": {
        "id": "XauFMMZjnYxn"
      }
    },
    {
      "cell_type": "code",
      "execution_count": null,
      "metadata": {
        "scrolled": true,
        "id": "JrTpTBJsJ9Bp"
      },
      "outputs": [],
      "source": [
        "# Download and extract the data for vista (auto-skip if already downloaded)\n",
        "!wget -nc -q --show-progress https://www.dropbox.com/s/62pao4mipyzk3xu/vista_traces.zip\n",
        "print(\"Unzipping data...\")\n",
        "!unzip -o -q vista_traces.zip\n",
        "print(\"Done downloading and unzipping data!\")\n",
        "\n",
        "trace_root = \"./vista_traces\"\n",
        "trace_path = [\n",
        "    \"20210726-154641_lexus_devens_center\", \n",
        "    \"20210726-155941_lexus_devens_center_reverse\", \n",
        "    \"20210726-184624_lexus_devens_center\", \n",
        "    \"20210726-184956_lexus_devens_center_reverse\", \n",
        "]\n",
        "trace_path = [os.path.join(trace_root, p) for p in trace_path]\n",
        "\n",
        "# Create a virtual world with VISTA, the world is defined by a series of data traces\n",
        "world = vista.World(trace_path, trace_config={'road_width': 4})\n",
        "\n",
        "# Create a car in our virtual world. The car will be able to step and take different \n",
        "#   control actions. As the car moves, its sensors will simulate any changes it environment\n",
        "car = world.spawn_agent(\n",
        "    config={\n",
        "        'length': 5.,\n",
        "        'width': 2.,\n",
        "        'wheel_base': 2.78,\n",
        "        'steering_ratio': 14.7,\n",
        "        'lookahead_road': True\n",
        "    })\n",
        "\n",
        "# Create a camera on the car for synthesizing the sensor data that we can use to train with! \n",
        "camera = car.spawn_camera(config={'size': (200, 320)})\n",
        "\n",
        "# Define a rendering display so we can visualize the simulated car camera stream and also \n",
        "#   get see its physical location with respect to the road in its environment. \n",
        "display = vista.Display(world, display_config={\"gui_scale\": 2, \"vis_full_frame\": False})\n",
        "\n",
        "# Define a simple helper function that allows us to reset VISTA and the rendering display\n",
        "def vista_reset():\n",
        "    world.reset()\n",
        "    display.reset()\n",
        "vista_reset()"
      ]
    },
    {
      "cell_type": "markdown",
      "source": [
        "If successful, you should see a blank black screen at this point. Your rendering display has  been initialized."
      ],
      "metadata": {
        "id": "aa3sA9FKndIx"
      }
    },
    {
      "cell_type": "markdown",
      "source": [
        "## 3.7 Our virtual agent: the car\n",
        "\n",
        "Our goal is to learn a control policy for our agent, our (hopefully) autonomous vehicle, end-to-end directly from RGB camera sensory input. As in Cartpole, we need to define how our virtual agent will interact with its environment.\n",
        "\n",
        "### Define agent's action functions\n",
        "In the case of driving, the car agent can act -- taking a step in the VISTA environment -- according to a given control command. This amounts to moving with a desired speed and a desired *curvature*, which reflects the car's turn radius. Curvature has units $\\frac{1}{meter}$. So, if a car is traversing a circle of radius $r$ meters, then it is turning with a curvature $\\frac{1}{r}$. The curvature is therefore correlated with the car's steering wheel angle, which actually controls its turn radius. Let's define the car agent's step function to capture the action of moving with a desired speed and desired curvature."
      ],
      "metadata": {
        "id": "rNzwTTwzngQH"
      }
    },
    {
      "cell_type": "code",
      "execution_count": null,
      "metadata": {
        "id": "ZjFecj3WJ9Bp"
      },
      "outputs": [],
      "source": [
        "# First we define a step function, to allow our virtual agent to step \n",
        "# with a given control command through the environment \n",
        "# agent can act with a desired curvature (turning radius, like steering angle)\n",
        "# and desired speed. if either is not provided then this step function will \n",
        "# use whatever the human executed at that time in the real data.\n",
        "\n",
        "def vista_step(curvature=None, speed=None):\n",
        "    # Arguments:\n",
        "    #   curvature: curvature to step with\n",
        "    #   speed: speed to step with\n",
        "    if curvature is None: \n",
        "        curvature = car.trace.f_curvature(car.timestamp)\n",
        "    if speed is None: \n",
        "        speed = car.trace.f_speed(car.timestamp)\n",
        "    \n",
        "    car.step_dynamics(action=np.array([curvature, speed]), dt=1/15.)\n",
        "    car.step_sensors()"
      ]
    },
    {
      "cell_type": "markdown",
      "metadata": {
        "id": "aRmV3GtkJ9Bp"
      },
      "source": [
        "### Inspect driving trajectories in VISTA\n",
        "\n",
        "Recall that our VISTA environment is based off an initial human-collected driving trace. Also, we defined the agent's step function to defer to what the human executed if it is not provided with a desired speed and curvature with which to move.\n",
        "\n",
        "Thus, we can further inspect our environment by using the step function for the driving agent to move through the environment by following the human path. The stepping and iteration will take about 1 iteration per second. We will then observe the data that comes out to see the agent's traversal of the environment."
      ]
    },
    {
      "cell_type": "code",
      "execution_count": null,
      "metadata": {
        "id": "rp8G7eirJ9Bp"
      },
      "outputs": [],
      "source": [
        "import shutil, os, subprocess, cv2\n",
        "\n",
        "# Create a simple helper class that will assist us in storing videos of the render\n",
        "class VideoStream():\n",
        "    def __init__(self):\n",
        "        self.tmp = \"./tmp\"\n",
        "        if os.path.exists(self.tmp) and os.path.isdir(self.tmp):\n",
        "            shutil.rmtree(self.tmp)\n",
        "        os.mkdir(self.tmp)\n",
        "    def write(self, image, index):\n",
        "        cv2.imwrite(os.path.join(self.tmp, f\"{index:04}.png\"), image)\n",
        "    def save(self, fname):\n",
        "        cmd = f\"/usr/bin/ffmpeg -f image2 -i {self.tmp}/%04d.png -crf 0 -y {fname}\"\n",
        "        subprocess.call(cmd, shell=True)\n",
        "        "
      ]
    },
    {
      "cell_type": "code",
      "execution_count": null,
      "metadata": {
        "scrolled": true,
        "id": "MlC5t0dyJ9Bq"
      },
      "outputs": [],
      "source": [
        "## Render and inspect a human trace ##\n",
        "\n",
        "vista_reset()\n",
        "stream = VideoStream()\n",
        "\n",
        "for i in tqdm(range(100)):\n",
        "    vista_step()\n",
        "    \n",
        "    # Render and save the display\n",
        "    vis_img = display.render()\n",
        "    stream.write(vis_img[:, :, ::-1], index=i)\n",
        "    if car.done: \n",
        "        break\n",
        "\n",
        "print(\"Saving trajectory of human following...\")\n",
        "stream.save(\"human_follow.mp4\")      \n",
        "mdl.lab3.play_video(\"human_follow.mp4\")"
      ]
    },
    {
      "cell_type": "markdown",
      "source": [
        "Check out the simulated VISTA environment. What do you notice about the environment, the agent, and the setup of the simulation engine? How could these aspects useful for training models?"
      ],
      "metadata": {
        "id": "SCeRDuqV-bye"
      }
    },
    {
      "cell_type": "markdown",
      "metadata": {
        "id": "CvJCRINbJ9Bq"
      },
      "source": [
        "### Define terminal states: crashing! (oh no)\n",
        "\n",
        "Recall from Cartpole, our training episodes ended when the pole toppled, i.e., the agent crashed and failed. Similarly for training vehicle control policies in VISTA, we have to define what a ***crash*** means. We will define a crash as any time the car moves out of its lane or exceeds its maximum rotation. This will define the end of a training episode."
      ]
    },
    {
      "cell_type": "code",
      "execution_count": null,
      "metadata": {
        "id": "2_6U_VAFJ9Bq"
      },
      "outputs": [],
      "source": [
        "## Define terminal states and crashing conditions ##\n",
        "\n",
        "def check_out_of_lane(car):\n",
        "    distance_from_center = np.abs(car.relative_state.x)\n",
        "    road_width = car.trace.road_width \n",
        "    half_road_width = road_width / 2\n",
        "    return distance_from_center > half_road_width\n",
        "\n",
        "def check_exceed_max_rot(car):\n",
        "    maximal_rotation = np.pi / 10.\n",
        "    current_rotation = np.abs(car.relative_state.yaw)\n",
        "    return current_rotation > maximal_rotation\n",
        "\n",
        "def check_crash(car): \n",
        "    return check_out_of_lane(car) or check_exceed_max_rot(car) or car.done"
      ]
    },
    {
      "cell_type": "markdown",
      "metadata": {
        "id": "YFXUZ8ppJ9Bq"
      },
      "source": [
        "### Quick check: acting with a random control policy\n",
        "\n",
        "At this point, we have (1) an environment; (2) an agent, with a step function. Before we start learning a control policy for our vehicle agent, we start by testing out the behavior of the agent in the virtual world by providing it with a completely random control policy. Naturally we expect that the behavior will not be very robust! Let's take a look."
      ]
    },
    {
      "cell_type": "code",
      "execution_count": null,
      "metadata": {
        "id": "ZIyI5MqwJ9Bq"
      },
      "outputs": [],
      "source": [
        "## Behavior with random control policy ##\n",
        "\n",
        "i = 0\n",
        "num_crashes = 5\n",
        "stream = VideoStream()\n",
        "\n",
        "for _ in range(num_crashes):\n",
        "    vista_reset()\n",
        "    \n",
        "    while not check_crash(car):\n",
        "\n",
        "        # Sample a random curvature (between +/- 1/3), keep speed constant\n",
        "        curvature = np.random.uniform(-1/3, 1/3)\n",
        "\n",
        "        # Step the simulated car with the same action\n",
        "        vista_step(curvature=curvature)\n",
        "\n",
        "        # Render and save the display\n",
        "        vis_img = display.render()\n",
        "        stream.write(vis_img[:, :, ::-1], index=i)\n",
        "        i += 1\n",
        "    \n",
        "    print(f\"Car crashed on step {i}\")\n",
        "    for _ in range(5):\n",
        "        stream.write(vis_img[:, :, ::-1], index=i)\n",
        "        i += 1\n",
        "\n",
        "print(\"Saving trajectory with random policy...\")\n",
        "stream.save(\"random_policy.mp4\")\n",
        "mdl.lab3.play_video(\"random_policy.mp4\")"
      ]
    },
    {
      "cell_type": "markdown",
      "metadata": {
        "id": "OL02qW5vJ9Br"
      },
      "source": [
        "## 3.8 Preparing to learn a control policy: data preprocessing\n",
        "\n",
        "So, hopefully you saw that the random control policy was, indeed, not very robust. Yikes. Our overall goal in this lab is to build a self-driving agent using a neural network controller trained entirely in the simulator VISTA. This means that the data used to train and test the self-driving agent will be supplied by VISTA. As a step towards this, we will do some data preprocessing to make it easier for the network to learn from these visual data.\n",
        "\n",
        "Previously we rendered the data with a display as a quick check that the environment was working properly. For training the agent, we will directly access the car's observations, extract Regions Of Interest (ROI) from those observations, crop them out, and use these crops as training data for our self-driving agent controller. Observe both the full observation and the extracted ROI."
      ]
    },
    {
      "cell_type": "code",
      "execution_count": null,
      "metadata": {
        "id": "4UxX6mk5J9Br"
      },
      "outputs": [],
      "source": [
        "from google.colab.patches import cv2_imshow\n",
        "\n",
        "# Directly access the raw sensor observations of the simulated car\n",
        "vista_reset()\n",
        "full_obs = car.observations[camera.name]\n",
        "cv2_imshow(full_obs)"
      ]
    },
    {
      "cell_type": "code",
      "source": [
        "## ROIs ##\n",
        "\n",
        "# Crop a smaller region of interest (ROI). This is necessary because: \n",
        "#   1. The full observation will have distortions on the edge as the car deviates from the human\n",
        "#   2. A smaller image of the environment will be easier for our model to learn from\n",
        "region_of_interest = camera.camera_param.get_roi()\n",
        "i1, j1, i2, j2 = region_of_interest\n",
        "cropped_obs = full_obs[i1:i2, j1:j2]\n",
        "cv2_imshow(cropped_obs)"
      ],
      "metadata": {
        "id": "KAH-5uxrbkng"
      },
      "execution_count": null,
      "outputs": []
    },
    {
      "cell_type": "markdown",
      "metadata": {
        "id": "znxypklaJ9Br"
      },
      "source": [
        "We will group these steps into some helper functions that we can use during training: \n",
        "1. `preprocess`: takes a full observation as input and returns a preprocessed version. This can include whatever preprocessing steps you would like! For example, ROI extraction, cropping, augmentations, and so on. You are welcome to add and modify this function as you seek to optimize your self-driving agent!\n",
        "2. `grab_and_preprocess`: grab the car's current observation (i.e., image view from its perspective), and then call the `preprocess` function on that observation."
      ]
    },
    {
      "cell_type": "code",
      "execution_count": null,
      "metadata": {
        "id": "7GQY_UwSJ9Br"
      },
      "outputs": [],
      "source": [
        "## Data preprocessing functions ##\n",
        "\n",
        "def preprocess(full_obs):\n",
        "    # Extract ROI\n",
        "    i1, j1, i2, j2 = camera.camera_param.get_roi()\n",
        "    obs = full_obs[i1:i2, j1:j2]\n",
        "    \n",
        "    # Rescale to [0, 1]\n",
        "    obs = obs / 255.\n",
        "    return obs\n",
        "\n",
        "def grab_and_preprocess_obs(car):\n",
        "    full_obs = car.observations[camera.name]\n",
        "    obs = preprocess(full_obs)\n",
        "    return obs"
      ]
    },
    {
      "cell_type": "markdown",
      "metadata": {
        "id": "WAueY4PfJ9Br"
      },
      "source": [
        "## 3.9 Define the self-driving agent and learning algorithm\n",
        "\n",
        "As before, we'll use a neural network to define our agent and output actions that it will take. Fixing the agent's driving speed, we will train this network to predict a curvature -- a continuous value -- that will relate to the car's turn radius. Specifically, define the model to output a prediction of a continuous distribution of curvature, defined by a mean $\\mu$ and standard deviation $\\sigma$. These parameters will define a Normal distribution over curvature.\n",
        "\n",
        "What network architecture do you think would be especially well suited to the task of end-to-end control learning from RGB images? Since our observations are in the form of RGB images, we'll start with a convolutional network. Note that you will be tasked with completing a template CNN architecture for the self-driving car agent -- but you should certainly experiment beyond this template to try to optimize performance!"
      ]
    },
    {
      "cell_type": "code",
      "execution_count": null,
      "metadata": {
        "id": "f-pAQA7zJ9Br"
      },
      "outputs": [],
      "source": [
        "### Define the self-driving agent ###\n",
        "# Note: we start with a template CNN architecture -- experiment away as you \n",
        "#   try to optimize your agent!\n",
        "\n",
        "# Functionally define layers for convenience\n",
        "# All convolutional layers will have ReLu activation\n",
        "act = tf.keras.activations.swish\n",
        "Conv2D = functools.partial(tf.keras.layers.Conv2D, padding='valid', activation=act)\n",
        "Flatten = tf.keras.layers.Flatten\n",
        "Dense = tf.keras.layers.Dense\n",
        "\n",
        "# Defines a CNN for the self-driving agent\n",
        "def create_driving_model():\n",
        "    model = tf.keras.models.Sequential([\n",
        "        # Convolutional layers\n",
        "        # First, 32 5x5 filters and 2x2 stride\n",
        "        Conv2D(filters=32, kernel_size=5, strides=2),\n",
        "\n",
        "        # TODO: define convolutional layers with 48 5x5 filters and 2x2 stride\n",
        "        # Conv2D('''TODO'''),\n",
        "\n",
        "        # TODO: define two convolutional layers with 64 3x3 filters and 2x2 stride\n",
        "        # Conv2D('''TODO'''),\n",
        "\n",
        "        Flatten(),\n",
        "\n",
        "        # Fully connected layer and output\n",
        "        Dense(units=128, activation=act),\n",
        "        \n",
        "        # TODO: define the output dimension of the last Dense layer. \n",
        "        #    Pay attention to the space the agent needs to act in.\n",
        "        #    Remember that this model is outputing a distribution of *continuous* \n",
        "        #    actions, which take a different shape than discrete actions.\n",
        "        #    How many outputs should there be to define a distribution?'''\n",
        "\n",
        "        # Dense('''TODO''')\n",
        "\n",
        "    ])\n",
        "    return model\n",
        "\n",
        "driving_model = create_driving_model()"
      ]
    },
    {
      "cell_type": "markdown",
      "metadata": {
        "id": "hlyL0HL1J9Bs"
      },
      "source": [
        "Now we will define the learing algorithm which will be used to reinforce good behaviors of the agent and discourage bad behaviours. As with Cartpole, we will use a *policy gradient* method that aims to **maximize** the likelihood of actions that result in large rewards. However, there are some key differences. In Cartpole, the agent's action space was discrete: it could only move left or right. In driving, the agent's action space is continuous: the control network is outputting a curvature, which is a continuous variable. We will define a probability distribution, defined by a mean and variance, over this continuous action space to define the possible actions the self-driving agent can take.\n",
        "\n",
        "You will define three functions that reflect these changes and form the core of the the learning algorithm:\n",
        "1. `run_driving_model`: takes an input image, and outputs a prediction of a continuous distribution of curvature. This will take the form of a Normal distribuion and will be defined using TensorFlow probability's [`tfp.distributions.Normal`](https://www.tensorflow.org/probability/api_docs/python/tfp/distributions/Normal) function, so the model's prediction will include both a mean and variance. Operates on an instance `driving_model` defined above.\n",
        "2. `compute_driving_loss`: computes the loss for a prediction that is in the form of a continuous Normal distribution. Recall as in Cartpole, computing the loss involves multiplying the predicted log probabilities by the discounted rewards. Similar to `compute_loss` in Cartpole.\n",
        "\n",
        "The `train_step` function to use the loss function to execute a training step will be the same as we used in Cartpole! This will have to be executed abov in order for the driving agent to train properly."
      ]
    },
    {
      "cell_type": "code",
      "execution_count": null,
      "metadata": {
        "id": "-UWhFhToJ9Bs"
      },
      "outputs": [],
      "source": [
        "## The self-driving learning algorithm ##\n",
        "\n",
        "# hyperparameters\n",
        "max_curvature = 1/8. \n",
        "max_std = 0.1 \n",
        "\n",
        "def run_driving_model(image):\n",
        "    # Arguments:\n",
        "    #   image: an input image\n",
        "    # Returns:\n",
        "    #   pred_dist: predicted distribution of control actions \n",
        "    single_image_input = tf.rank(image) == 3  # missing 4th batch dimension\n",
        "    if single_image_input:\n",
        "        image = tf.expand_dims(image, axis=0)\n",
        "\n",
        "    '''TODO: get the prediction of the model given the current observation.'''    \n",
        "    # distribution = ''' TODO '''\n",
        "\n",
        "    mu, logsigma = tf.split(distribution, 2, axis=1)\n",
        "    mu = max_curvature * tf.tanh(mu) # conversion\n",
        "    sigma = max_std * tf.sigmoid(logsigma) + 0.005 # conversion\n",
        "    \n",
        "    '''TODO: define the predicted distribution of curvature, given the predicted\n",
        "    mean mu and standard deviation sigma. Use a Normal distribution as defined\n",
        "    in TF probability (hint: tfp.distributions)'''\n",
        "    # pred_dist = ''' TODO '''\n",
        "  \n",
        "    return pred_dist\n",
        "\n",
        "\n",
        "def compute_driving_loss(dist, actions, rewards):\n",
        "    # Arguments:\n",
        "    #   logits: network's predictions for actions to take\n",
        "    #   actions: the actions the agent took in an episode\n",
        "    #   rewards: the rewards the agent received in an episode\n",
        "    # Returns:\n",
        "    #   loss\n",
        "    '''TODO: complete the function call to compute the negative log probabilities\n",
        "    of the agent's actions.'''\n",
        "    # neg_logprob = '''TODO'''\n",
        "\n",
        "    '''TODO: scale the negative log probability by the rewards.'''\n",
        "    # loss = tf.reduce_mean('''TODO''')\n",
        "    return loss\n"
      ]
    },
    {
      "cell_type": "markdown",
      "metadata": {
        "id": "fCCMKLaIJ9Bs"
      },
      "source": [
        "## 3.10 Train the self-driving agent\n",
        "\n",
        "We're now all set up to start training our RL algorithm and agent for autonomous driving!\n",
        "\n",
        "We begin be initializing an opitimizer, environment, a new driving agent, and `Memory` buffer. This will be in the first code block. To restart training completely, you will need to re-run this cell to re-initiailize everything.\n",
        "\n",
        "The second code block is the main training script. Here reinforcement learning episodes will be executed by agents in the VISTA environment. Since the self-driving agent starts out with literally zero knowledge of its environment, it can often take a long time to train and achieve stable behavior -- keep this in mind! For convenience, stopping and restarting the second cell will pick up training where you left off.\n",
        "\n",
        "The training block will execute a policy in the environment until the agent crashes. When the agent crashes, the (state, action, reward) triplet `(s,a,r)` of the agent at the end of the episode will be saved into the `Memory` buffer, and then provided as input to the policy gradient loss function. This information will be used to execute optimization within the training step. Memory will be cleared, and we will then do it all over again!\n",
        "\n",
        "Let's run the code block to train our self-driving agent. We will again visualize the evolution of the total reward as a function of training to get a sense of how the agent is learning. **You should reach a reward of at least 100 to get bare minimum stable behavior.**"
      ]
    },
    {
      "cell_type": "code",
      "source": [
        "## Training parameters and initialization ##\n",
        "## Re-run this cell to restart training from scratch ##\n",
        "\n",
        "''' TODO: Learning rate and optimizer '''\n",
        "# learning_rate = '''TODO'''\n",
        "# optimizer = '''TODO'''\n",
        "\n",
        "# instantiate driving agent\n",
        "vista_reset()\n",
        "driving_model = create_driving_model()\n",
        "# NOTE: the variable driving_model will be used in run_driving_model execution\n",
        "\n",
        "# to track our progress\n",
        "smoothed_reward = mdl.util.LossHistory(smoothing_factor=0.9)\n",
        "plotter = mdl.util.PeriodicPlotter(sec=2, xlabel='Iterations', ylabel='Rewards')\n",
        "\n",
        "# instantiate Memory buffer\n",
        "memory = Memory()"
      ],
      "metadata": {
        "id": "uZGn94sJCtBb"
      },
      "execution_count": null,
      "outputs": []
    },
    {
      "cell_type": "code",
      "execution_count": null,
      "metadata": {
        "scrolled": true,
        "id": "G8GhVvZQJ9Bs"
      },
      "outputs": [],
      "source": [
        "## Driving training! Main training block. ##\n",
        "## Note: stopping and restarting this cell will pick up training where you\n",
        "#        left off. To restart training you need to rerun the cell above as \n",
        "#        well (to re-initialize the model and optimizer)\n",
        "\n",
        "max_batch_size = 300\n",
        "max_reward = float('-inf') # keep track of the maximum reward acheived during training\n",
        "if hasattr(tqdm, '_instances'): tqdm._instances.clear() # clear if it exists\n",
        "for i_episode in range(500):\n",
        "\n",
        "    plotter.plot(smoothed_reward.get())\n",
        "    # Restart the environment\n",
        "    vista_reset()\n",
        "    memory.clear()\n",
        "    observation = grab_and_preprocess_obs(car)\n",
        "\n",
        "    while True:\n",
        "        # TODO: using the car's current observation compute the desired \n",
        "        #  action (curvature) distribution by feeding it into our \n",
        "        #  driving model (use the function you already built to do this!) '''\n",
        "        # curvature_dist = '''TODO'''\n",
        "        \n",
        "        # TODO: sample from the action *distribution* to decide how to step\n",
        "        #   the car in the environment. You may want to check the documentation\n",
        "        #   for tfp.distributions.Normal online. Remember that the sampled action\n",
        "        #   should be a single scalar value after this step.\n",
        "        # curvature_action = '''TODO'''\n",
        "        \n",
        "        # Step the simulated car with the same action\n",
        "        vista_step(curvature_action)\n",
        "        observation = grab_and_preprocess_obs(car)\n",
        "               \n",
        "        # TODO: Compute the reward for this iteration. You define \n",
        "        #   the reward function for this policy, start with something \n",
        "        #   simple - for example, give a reward of 1 if the car did not \n",
        "        #   crash and a reward of 0 if it did crash.\n",
        "        #  reward = '''TODO'''\n",
        "        \n",
        "        # add to memory\n",
        "        memory.add_to_memory(observation, curvature_action, reward)\n",
        "        \n",
        "        # is the episode over? did you crash or do so well that you're done?\n",
        "        if reward == 0.0:\n",
        "            # determine total reward and keep a record of this\n",
        "            total_reward = sum(memory.rewards)\n",
        "            smoothed_reward.append(total_reward)\n",
        "            \n",
        "            # execute training step - remember we don't know anything about how the \n",
        "            #   agent is doing until it has crashed! if the training step is too large \n",
        "            #   we need to sample a mini-batch for this step.\n",
        "            batch_size = min(len(memory), max_batch_size)\n",
        "            i = np.random.choice(len(memory), batch_size, replace=False)\n",
        "            train_step(driving_model, compute_driving_loss, optimizer, \n",
        "                               observations=np.array(memory.observations)[i],\n",
        "                               actions=np.array(memory.actions)[i],\n",
        "                               discounted_rewards = discount_rewards(memory.rewards)[i], \n",
        "                               custom_fwd_fn=run_driving_model)            \n",
        "            # reset the memory\n",
        "            memory.clear()\n",
        "            break"
      ]
    },
    {
      "cell_type": "markdown",
      "metadata": {
        "id": "yevBnJCFJ9Bt"
      },
      "source": [
        "## 3.11 Evaluate the self-driving agent\n",
        "\n",
        "Finally we can put our trained self-driving agent to the test! It will execute autonomous control, in VISTA, based on the learned controller. We will evaluate how well it does based on this distance the car travels without crashing. We await the result..."
      ]
    },
    {
      "cell_type": "code",
      "execution_count": null,
      "metadata": {
        "scrolled": true,
        "id": "DzeswkSnJ9Bt"
      },
      "outputs": [],
      "source": [
        "## Evaluation block!##\n",
        "\n",
        "i_step = 0\n",
        "num_episodes = 5\n",
        "num_reset = 5\n",
        "stream = VideoStream()\n",
        "for i_episode in range(num_episodes):\n",
        "    \n",
        "    # Restart the environment\n",
        "    vista_reset()\n",
        "    observation = grab_and_preprocess_obs(car)\n",
        "    \n",
        "    print(\"rolling out in env\")\n",
        "    episode_step = 0\n",
        "    while not check_crash(car) and episode_step < 100:\n",
        "        # using our observation, choose an action and take it in the environment\n",
        "        curvature_dist = run_driving_model(observation)\n",
        "        curvature = curvature_dist.mean()[0,0]\n",
        "\n",
        "        # Step the simulated car with the same action\n",
        "        vista_step(curvature)\n",
        "        observation = grab_and_preprocess_obs(car)\n",
        "\n",
        "        vis_img = display.render()\n",
        "        stream.write(vis_img[:, :, ::-1], index=i_step)\n",
        "        i_step += 1\n",
        "        episode_step += 1\n",
        "        \n",
        "    for _ in range(num_reset):\n",
        "        stream.write(np.zeros_like(vis_img), index=i_step)\n",
        "        i_step += 1\n",
        "        \n",
        "print(f\"Average reward: {(i_step - (num_reset*num_episodes)) / num_episodes}\")\n",
        "\n",
        "print(\"Saving trajectory with trained policy...\")\n",
        "stream.save(\"trained_policy.mp4\")\n",
        "mdl.lab3.play_video(\"trained_policy.mp4\")"
      ]
    },
    {
      "cell_type": "markdown",
      "source": [
        "Congratulations for making it to this point and for training an autonomous vehicle control policy using deep neural networks and reinforcement learning! Now, with an eye towards the lab competition, think about what you can change -- about the controller model, your data, your learning algorithm... -- to improve performance even further. Below in 3.11 we have some suggestions to get you started. We hope to see your self-driving control policy put to the ***real*** test!"
      ],
      "metadata": {
        "id": "Dq6TZoYvoPyy"
      }
    },
    {
      "cell_type": "markdown",
      "source": [
        "## 3.11 Conclusion and submission information\n",
        "\n",
        "That's it! Congratulations on training two RL agents and putting them to the test! We encourage you to consider the following:\n",
        "\n",
        "* How does each agent perform?\n",
        "* How does the complexity of the self-driving car agent compare to CartPole, and how does it alter the rate at which the agent learns and its performance? \n",
        "* What are some things you could change about the agent or the learning process to potentially improve performance?\n",
        "\n",
        "Try to optimize your **self-driving car** model and algorithm to achieve improved performance.  **MIT students and affiliates will be eligible for prizes during the IAP offering. The prize for this lab includes an opportunity to test your model and algorithm onboard a full-scale autonomous vehicle in the real world.**\n",
        "\n",
        "To get you started, here are some suggested ways to improve your self-driving car model and/or RL algorithm:\n",
        "\n",
        "* different model architectures, for example recurrent models or Transformers with self-attention;\n",
        "* data augmentation and improved pre-processing;\n",
        "* different data modalities from different sensor types. VISTA also supports [LiDAR](https://driving.ca/car-culture/auto-tech/what-is-lidar-and-how-is-it-used-in-cars) and [event-based camera](https://arxiv.org/pdf/1804.01310.pdf) data, with a [new VISTA paper](https://arxiv.org/pdf/2111.12083.pdf) describing this. If you are interested in this, please contact Alexander Amini (amini@mit.edu)!\n",
        "* improved reinforcement learning algorithms, such as [PPO](https://paperswithcode.com/paper/proximal-policy-optimization-algorithms), [TRPO](https://paperswithcode.com/method/trpo), or [A3C](https://paperswithcode.com/method/a3c);\n",
        "* different reward functions for reinforcemnt learning, for example penalizing the car's distance to the lane center rather than just whether or not it crashed;\n",
        "* [Guided Policy Learning (GPL)](https://rll.berkeley.edu/gps/). Not reinforcement learning, but a powerful algorithm to leverage human data to provide additional supervision the learning task.\n",
        "\n",
        "To enter the competition, MIT students and affiliates should upload the following to the course Canvas:\n",
        "\n",
        "* Jupyter notebook with the code you used to generate your results, **with the self-driving car agent training fully executed**;\n",
        "* **saved video of your self-driving agent executing a trajectory in VISTA**;\n",
        "* printout / recording of the **maximum distance traveled by your agent** before crashing;\n",
        "* **text description and/or visual diagram** of the architecture, settings, algorithm, hyperparameters, etc you used to generate your result -- if there are any additional or interesting modifications you made to the template code, please include these in your description;\n",
        "* finally, **separate `.py` script** containing the code for your model, as well as **a function call to load your model and the final trained weights**. This will mean you will have to access and load the weights of your trained model in this script;\n",
        "\n",
        "We will evaluate your entries based on the above components, as well as potential real-time evaluation of top candidates in new VISTA environments with snow / winter traces. The link for these traces is [here](https://www.dropbox.com/s/3wxyvjfquloonqc/vista_traces_snow.zip). You are welcome to download this data and evaluate your models on it as well.\n",
        "\n",
        "Good luck!\n",
        "\n",
        "<p align=\"center\">\n",
        "<img src=\"https://media.giphy.com/media/H7rpSYHRyYgamxQNqw/giphy-downsized-large.gif\" width=\"700\"/>\n",
        "</p>"
      ],
      "metadata": {
        "id": "6c6uO21GoRfw"
      }
    },
    {
      "cell_type": "code",
      "source": [
        ""
      ],
      "metadata": {
        "id": "ac8FNK-x8gNn"
      },
      "execution_count": null,
      "outputs": []
    }
  ],
  "metadata": {
    "accelerator": "GPU",
    "colab": {
      "collapsed_sections": [
        "WoXYKhfZMHiw",
        "UT7YL8KBJIIc",
        "Eu6Mqxc720ST"
      ],
      "name": "RL.ipynb",
      "provenance": [],
      "include_colab_link": true
    },
    "kernelspec": {
      "display_name": "Python 3",
      "language": "python",
      "name": "python3"
    },
    "language_info": {
      "codemirror_mode": {
        "name": "ipython",
        "version": 3
      },
      "file_extension": ".py",
      "mimetype": "text/x-python",
      "name": "python",
      "nbconvert_exporter": "python",
      "pygments_lexer": "ipython3",
      "version": "3.9.7"
    }
  },
  "nbformat": 4,
  "nbformat_minor": 0
}